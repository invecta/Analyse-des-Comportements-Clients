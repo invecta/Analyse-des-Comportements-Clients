﻿{
 "cells": [
  {
   "cell_type": "markdown",
   "metadata": {},
   "source": [
    "# Analyse des Comportements Clients - Exploration des Donnees\n",
    "\n",
    "Ce notebook effectue une analyse exploratoire complete des donnees de comportement des clients.\n",
    "\n",
    "## Objectifs\n",
    "1. Charger et explorer les donnees clients\n",
    "2. Effectuer une evaluation de la qualite des donnees\n",
    "3. Creer des visualisations initiales\n",
    "4. Generer des statistiques de synthese\n",
    "5. Identifier des modeles et des insights\n",
    "\n",
    "## Table des Matieres\n",
    "1. [Configuration de l'Environnement](#configuration-de-lenvironnement)\n",
    "2. [Chargement des Donnees](#chargement-des-donnees)\n",
    "3. [Apercu des Donnees](#apercu-des-donnees)\n",
    "4. [Evaluation de la Qualite des Donnees](#evaluation-de-la-qualite-des-donnees)\n",
    "5. [Visualisations Exploratoires](#visualisations-exploratoires)\n",
    "6. [Statistiques de Synthese](#statistiques-de-synthese)\n",
    "7. [Insights Cles](#insights-cles)"
   ]
  },
  {
   "cell_type": "markdown",
   "metadata": {},
   "source": [
    "## Configuration de l'Environnement\n",
    "\n",
    "Commencons par importer toutes les bibliotheques necessaires pour l'analyse de donnees et la visualisation."
   ]
  },
  {
   "cell_type": "code",
   "execution_count": null,
   "metadata": {},
   "outputs": [],
   "source": [
    "# Import des bibliotheques necessaires\n",
    "import pandas as pd\n",
    "import numpy as np\n",
    "import matplotlib.pyplot as plt\n",
    "import seaborn as sns\n",
    "import warnings\n",
    "from datetime import datetime, timedelta\n",
    "import plotly.express as px\n",
    "import plotly.graph_objects as go\n",
    "from plotly.subplots import make_subplots\n",
    "import random\n",
    "\n",
    "# Configuration du style de graphiques\n",
    "plt.style.use('default')  # Change de 'seaborn-v0_8' vers 'default' pour la compatibilite\n",
    "sns.set_palette(\"husl\")\n",
    "warnings.filterwarnings('ignore')\n",
    "\n",
    "# Configuration des options d'affichage\n",
    "pd.set_option('display.max_columns', None)\n",
    "pd.set_option('display.width', None)\n",
    "pd.set_option('display.max_colwidth', 50)\n",
    "\n",
    "print(\"Bibliotheques importees avec succes!\")\n",
    "print(f\"Version Pandas: {pd.__version__}\")\n",
    "print(f\"Version NumPy: {np.__version__}\")\n",
    "print(f\"Version Matplotlib: {plt.matplotlib.__version__}\")\n",
    "print(f\"Version Seaborn: {sns.__version__}\")"
   ]
  }
 ],
 "metadata": {
  "kernelspec": {
   "display_name": "Python 3",
   "language": "python",
   "name": "python3"
  },
  "language_info": {
   "codemirror_mode": {
    "name": "ipython",
    "version": 3
   },
   "file_extension": ".py",
   "mimetype": "text/x-python",
   "name": "python",
   "nbconvert_exporter": "python",
   "pygments_lexer": "ipython3",
   "version": "3.8.5"
  }
 },
 "nbformat": 4,
 "nbformat_minor": 4
}
